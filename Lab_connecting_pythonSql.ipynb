{
 "cells": [
  {
   "cell_type": "code",
   "execution_count": 46,
   "metadata": {},
   "outputs": [
    {
     "name": "stdout",
     "output_type": "stream",
     "text": [
      "Name: SQLAlchemy\n",
      "Version: 2.0.30\n",
      "Summary: Database Abstraction Library\n",
      "Home-page: https://www.sqlalchemy.org\n",
      "Author: Mike Bayer\n",
      "Author-email: mike_mp@zzzcomputing.com\n",
      "License: MIT\n",
      "Location: /opt/anaconda3/lib/python3.11/site-packages\n",
      "Requires: typing-extensions\n",
      "Required-by: \n"
     ]
    }
   ],
   "source": [
    "!pip show sqlalchemy"
   ]
  },
  {
   "cell_type": "code",
   "execution_count": 47,
   "metadata": {},
   "outputs": [
    {
     "name": "stdout",
     "output_type": "stream",
     "text": [
      "Requirement already satisfied: mysql-connector-python in /opt/anaconda3/lib/python3.11/site-packages (9.0.0)\n"
     ]
    }
   ],
   "source": [
    "\n",
    "!pip install mysql-connector-python"
   ]
  },
  {
   "cell_type": "code",
   "execution_count": 48,
   "metadata": {},
   "outputs": [],
   "source": [
    "import pandas as pd\n",
    "import numpy as np\n",
    "import pymysql\n",
    "from sqlalchemy import create_engine\n",
    "import getpass\n",
    "import os\n",
    "from dotenv import load_dotenv\n",
    "import mysql.connector"
   ]
  },
  {
   "cell_type": "code",
   "execution_count": 49,
   "metadata": {},
   "outputs": [],
   "source": [
    "import pymysql\n",
    "from sqlalchemy import create_engine\n",
    "import pandas as pd\n",
    "import getpass\n",
    "\n",
    "password = getpass.getpass(\"Please enter the SQL database password: \")\n",
    "connection_string = 'mysql+pymysql://root:' + password + '@localhost/sakila'\n",
    "engine = create_engine(connection_string)\n",
    "\n",
    "# Close the connection properly\n",
    "connection.close()"
   ]
  },
  {
   "cell_type": "code",
   "execution_count": 50,
   "metadata": {},
   "outputs": [
    {
     "name": "stdout",
     "output_type": "stream",
     "text": [
      "   rental_id         rental_date  inventory_id  customer_id  \\\n",
      "0          1 2005-05-24 22:53:30           367          130   \n",
      "1          2 2005-05-24 22:54:33          1525          459   \n",
      "2          3 2005-05-24 23:03:39          1711          408   \n",
      "3          4 2005-05-24 23:04:41          2452          333   \n",
      "4          5 2005-05-24 23:05:21          2079          222   \n",
      "\n",
      "          return_date  staff_id         last_update  \n",
      "0 2005-05-26 22:04:30         1 2006-02-15 21:30:53  \n",
      "1 2005-05-28 19:40:33         1 2006-02-15 21:30:53  \n",
      "2 2005-06-01 22:12:39         1 2006-02-15 21:30:53  \n",
      "3 2005-06-03 01:43:41         2 2006-02-15 21:30:53  \n",
      "4 2005-06-02 04:33:21         1 2006-02-15 21:30:53  \n"
     ]
    }
   ],
   "source": [
    "from sqlalchemy import text\n",
    "\n",
    "def rentals_month(engine, month, year):\n",
    "    query = f\"SELECT * FROM rental WHERE MONTH(rental_date) = {month} AND YEAR(rental_date) = {year}\"\n",
    "    with engine.connect() as connection:\n",
    "        result = connection.execute(text(query))\n",
    "        df = pd.DataFrame(result.fetchall())\n",
    "    return df\n",
    "\n",
    "may = rentals_month(engine, 5, 2005)\n",
    "print(may.head())"
   ]
  },
  {
   "cell_type": "code",
   "execution_count": 51,
   "metadata": {},
   "outputs": [],
   "source": [
    "import pandas as pd\n",
    "\n",
    "def rental_count_month(df, month, year):\n",
    "    rentals_by_customer = df.loc[(df['rental_date'].dt.month == month) & (df['rental_date'].dt.year == year)] \\\n",
    "                            .groupby('customer_id')['rental_id'].count().reset_index()\n",
    "    rentals_by_customer.rename(columns={'rental_id': f'rentals_{month:02d}_{year}'}, inplace=True)\n",
    "    return rentals_by_customer"
   ]
  },
  {
   "cell_type": "code",
   "execution_count": 52,
   "metadata": {},
   "outputs": [
    {
     "name": "stdout",
     "output_type": "stream",
     "text": [
      "   customer_id  rentals_05_2005  rentals_06_2005  difference\n",
      "0            1                2                7          -5\n",
      "1            2                1                1           0\n",
      "2            3                2                4          -2\n",
      "3            5                3                5          -2\n",
      "4            6                3                4          -1\n"
     ]
    }
   ],
   "source": [
    "def compare_rentals(df1, df2):\n",
    "    merged_df = pd.merge(df1, df2, on='customer_id', suffixes=('_df1', '_df2'))\n",
    "    merged_df['difference'] = merged_df[df1.columns[1]] - merged_df[df2.columns[1]]\n",
    "    return merged_df\n",
    "\n",
    "# Usage\n",
    "may_rentals = rentals_month(engine, 5, 2005)\n",
    "june_rentals = rentals_month(engine, 6, 2005)\n",
    "may_count = rental_count_month(may_rentals, 5, 2005)\n",
    "june_count = rental_count_month(june_rentals, 6, 2005)\n",
    "comparison = compare_rentals(may_count, june_count)\n",
    "print(comparison.head())"
   ]
  }
 ],
 "metadata": {
  "kernelspec": {
   "display_name": "Python 3",
   "language": "python",
   "name": "python3"
  },
  "language_info": {
   "codemirror_mode": {
    "name": "ipython",
    "version": 3
   },
   "file_extension": ".py",
   "mimetype": "text/x-python",
   "name": "python",
   "nbconvert_exporter": "python",
   "pygments_lexer": "ipython3",
   "version": "3.11.7"
  }
 },
 "nbformat": 4,
 "nbformat_minor": 2
}
